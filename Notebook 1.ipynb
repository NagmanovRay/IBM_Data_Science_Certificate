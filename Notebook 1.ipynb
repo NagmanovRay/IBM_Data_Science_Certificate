{
    "cells": [
        {
            "metadata": {},
            "cell_type": "markdown",
            "source": "# My Jupyter Notebook on IBM Watson Studio"
        },
        {
            "metadata": {},
            "cell_type": "markdown",
            "source": "**Ybyray Nagmamov** <br>Recently graduated from Purdue University, entrepreneur"
        },
        {
            "metadata": {},
            "cell_type": "markdown",
            "source": "*I am interested in Data Science because I want to expand my programming capabilities as well as dive into the world of quantitative analysis. Recently I have discovered that I am not only passionate about data storytelling, buy also risk analysis and management in finance.*"
        },
        {
            "metadata": {},
            "cell_type": "markdown",
            "source": "### Create two variables x and y equal to 1 and 2 respectively, and print the sum of those two variables.\n"
        },
        {
            "metadata": {},
            "cell_type": "code",
            "source": "x = 1\ny = 2\nprint(x+y)",
            "execution_count": 5,
            "outputs": [
                {
                    "output_type": "stream",
                    "text": "3\n",
                    "name": "stdout"
                }
            ]
        },
        {
            "metadata": {},
            "cell_type": "markdown",
            "source": "1) Horizontal rule<br>\n---<br> \t\n2) Numbered list<br>\n1. First item<br>\n2. second item <br>\n3. Third item<br>\n\n3) Hyperlink<br>\n[My Linkedin profile](https://www.linkedin.com/in/ybyray-nagmanov/)\n"
        }
    ],
    "metadata": {
        "kernelspec": {
            "name": "python3",
            "display_name": "Python 3.9",
            "language": "python"
        },
        "language_info": {
            "name": "python",
            "version": "3.9.12",
            "mimetype": "text/x-python",
            "codemirror_mode": {
                "name": "ipython",
                "version": 3
            },
            "pygments_lexer": "ipython3",
            "nbconvert_exporter": "python",
            "file_extension": ".py"
        }
    },
    "nbformat": 4,
    "nbformat_minor": 1
}